{
 "cells": [
  {
   "cell_type": "code",
   "metadata": {
    "ExecuteTime": {
     "end_time": "2024-09-12T21:49:26.840940Z",
     "start_time": "2024-09-12T21:49:26.336650Z"
    }
   },
   "source": [
    "import numpy as np\n",
    "import sys"
   ],
   "outputs": [],
   "execution_count": 4
  },
  {
   "metadata": {
    "ExecuteTime": {
     "end_time": "2024-09-12T21:43:46.007131Z",
     "start_time": "2024-09-12T21:43:45.800581Z"
    }
   },
   "cell_type": "code",
   "source": "!python --version\n",
   "outputs": [
    {
     "name": "stdout",
     "output_type": "stream",
     "text": [
      "Python 3.12.4\n"
     ]
    }
   ],
   "execution_count": 1
  },
  {
   "metadata": {
    "ExecuteTime": {
     "end_time": "2024-09-12T21:44:27.465961Z",
     "start_time": "2024-09-12T21:44:22.454678Z"
    }
   },
   "cell_type": "code",
   "source": "!conda info --envs",
   "outputs": [
    {
     "name": "stdout",
     "output_type": "stream",
     "text": [
      "# conda environments:\n",
      "#\n",
      "                      *  C:\\ProgramData\\Anaconda3\n",
      "base                     C:\\ProgramData\\anaconda3\n",
      "genAI                    C:\\Users\\vinay\\.conda\\envs\\genAI\n",
      "genAI_v2                 C:\\Users\\vinay\\.conda\\envs\\genAI_v2\n",
      "                         D:\\learning\\GenAI_Projects\\mcqgen\\env\n",
      "\n"
     ]
    }
   ],
   "execution_count": 2
  },
  {
   "metadata": {
    "ExecuteTime": {
     "end_time": "2024-09-12T21:45:03.822159Z",
     "start_time": "2024-09-12T21:45:03.815175Z"
    }
   },
   "cell_type": "code",
   "source": [
    "import sys\n",
    "print(sys.executable)\n"
   ],
   "outputs": [
    {
     "name": "stdout",
     "output_type": "stream",
     "text": [
      "C:\\Users\\vinay\\.conda\\envs\\genAI_v2\\python.exe\n"
     ]
    }
   ],
   "execution_count": 3
  },
  {
   "metadata": {},
   "cell_type": "code",
   "outputs": [],
   "execution_count": null,
   "source": ""
  }
 ],
 "metadata": {
  "kernelspec": {
   "display_name": "Python 3 (ipykernel)",
   "language": "python",
   "name": "python3"
  },
  "language_info": {
   "name": "python",
   "version": "3.12.4"
  }
 },
 "nbformat": 4,
 "nbformat_minor": 2
}
